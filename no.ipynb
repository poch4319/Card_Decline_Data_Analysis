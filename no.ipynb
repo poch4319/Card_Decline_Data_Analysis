{
 "cells": [
  {
   "cell_type": "code",
   "execution_count": null,
   "metadata": {},
   "outputs": [],
   "source": [
    "\n",
    "from scipy.sparse import hstack\n",
    "\n",
    "def balance(data):\n",
    "    accept_data = data[data.binary_state == 1].sample((data.binary_state == 0).sum())\n",
    "    reject_data = data[data.binary_state == 0]\n",
    "    data = pd.concat([accept_data, reject_data])\n",
    "    return data\n",
    "\n",
    "def data_pipeline(data, use_usd=False, bl=False):\n",
    "    if bl:\n",
    "        data = balance(data)\n",
    "\n",
    "    X = data[['usd_amount', 'country', 'currency', 'cvv_provided']]\n",
    "    y = data[['binary_state']]\n",
    "\n",
    "    enc = OneHotEncoder(handle_unknown='ignore', drop='if_binary')\n",
    "    enc.fit(X[['country', 'currency', 'cvv_provided']])\n",
    "    encodes = enc.transform(X[['country', 'currency', 'cvv_provided']])\n",
    "    name = enc.get_feature_names()\n",
    "    if use_usd:\n",
    "        usd = np.array(X['usd_amount']).reshape(-1, 1)\n",
    "        X = hstack((encodes, usd))\n",
    "        name = np.append(name, 'USD_Amount')\n",
    "    else:\n",
    "        X = encodes\n",
    "    return X, y, name"
   ]
  },
  {
   "cell_type": "code",
   "execution_count": null,
   "metadata": {},
   "outputs": [],
   "source": [
    "X, y, feature_name = data_pipeline(acceptance, use_usd=True, bl=True)\n",
    "print()\n",
    "for i in range(1, 50):\n",
    "    clf = tree.DecisionTreeClassifier(max_depth=i)\n",
    "    clf.fit(X, y)\n",
    "    y_pred = clf.predict(X)\n",
    "    print(f'max depth: {i}, {accuracy_score(y, y_pred)}')\n",
    "\n",
    "clf = tree.DecisionTreeClassifier(max_depth=10)\n",
    "clf.fit(X, y)"
   ]
  },
  {
   "cell_type": "code",
   "execution_count": null,
   "metadata": {},
   "outputs": [],
   "source": [
    "import graphviz\n",
    "dot_data = tree.export_graphviz(clf, out_file=None,\n",
    "                                feature_names=feature_name,\n",
    "                                class_names={0:'Reject', 1:'Success'},\n",
    "                                filled=True, rounded=True,\n",
    "                                special_characters=True)\n",
    "graph = graphviz.Source(dot_data)\n",
    "graph"
   ]
  }
 ],
 "metadata": {
  "kernelspec": {
   "display_name": "Python 3.8.2 32-bit",
   "language": "python",
   "name": "python3"
  },
  "language_info": {
   "name": "python",
   "version": "3.8.2"
  },
  "orig_nbformat": 4,
  "vscode": {
   "interpreter": {
    "hash": "6d1e45cadc3597bb8b6600530fbdf8c3eefe919a24ef54d9d32b318795b772e0"
   }
  }
 },
 "nbformat": 4,
 "nbformat_minor": 2
}
